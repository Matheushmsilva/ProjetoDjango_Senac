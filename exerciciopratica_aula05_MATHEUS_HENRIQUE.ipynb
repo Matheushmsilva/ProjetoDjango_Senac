{
  "nbformat": 4,
  "nbformat_minor": 0,
  "metadata": {
    "colab": {
      "provenance": [],
      "authorship_tag": "ABX9TyPTDWjR25rezMTRE5efzqJM",
      "include_colab_link": true
    },
    "kernelspec": {
      "name": "python3",
      "display_name": "Python 3"
    },
    "language_info": {
      "name": "python"
    }
  },
  "cells": [
    {
      "cell_type": "markdown",
      "metadata": {
        "id": "view-in-github",
        "colab_type": "text"
      },
      "source": [
        "<a href=\"https://colab.research.google.com/github/Matheushmsilva/ProjetoDjango_Senac/blob/master/exerciciopratica_aula05_MATHEUS_HENRIQUE.ipynb\" target=\"_parent\"><img src=\"https://colab.research.google.com/assets/colab-badge.svg\" alt=\"Open In Colab\"/></a>"
      ]
    },
    {
      "cell_type": "markdown",
      "source": [
        "Matheus Henrique Monte da Silva ||\n",
        "Lista de Exercícios"
      ],
      "metadata": {
        "id": "trpHdOUEdiR2"
      }
    },
    {
      "cell_type": "code",
      "execution_count": null,
      "metadata": {
        "id": "FNlX5xkQf3cI",
        "colab": {
          "base_uri": "https://localhost:8080/"
        },
        "outputId": "bea6a99b-459d-4bd5-b31a-644a62a270c6"
      },
      "outputs": [
        {
          "output_type": "stream",
          "name": "stdout",
          "text": [
            "Insira o seu nome: matheus\n",
            "Insira a sua idade: 25\n",
            "1997\n"
          ]
        }
      ],
      "source": [
        "#1) parte\n",
        "\n",
        "class Pessoa():\n",
        "  def __init__(self, nome, idade): #variáveis da função\n",
        "    nome = str(input(\"Insira o seu nome: \")) #variáveis inplementadas\n",
        "    idade = int(input(\"Insira a sua idade: \"))\n",
        "    print(2022 - idade) #retorna o ano que a pessoa nasceu  \n",
        "\n",
        "pessoa1 = Pessoa(\"Matheus\", 0) #Criando um objeto a partir da classe Pessoa()\n",
        "\n"
      ]
    },
    {
      "cell_type": "code",
      "source": [
        "class Pessoa():\n",
        "  def __init__(self, nome, idade):\n",
        "    self.nome = nome\n",
        "    self.idade = idade\n",
        "\n",
        "  def nascimento(self, idade):\n",
        "    return (2022 - idade) \n",
        "\n",
        "pessoa1 = Pessoa(\"Matheus\", 23)\n",
        "pessoa1.nome\n",
        "pessoa1.idade\n",
        "pessoa1.nascimento(23)    "
      ],
      "metadata": {
        "colab": {
          "base_uri": "https://localhost:8080/"
        },
        "id": "Hzqmle9jrCe4",
        "outputId": "17daedbf-e7ec-480b-e242-362d1a759d98"
      },
      "execution_count": null,
      "outputs": [
        {
          "output_type": "execute_result",
          "data": {
            "text/plain": [
              "1999"
            ]
          },
          "metadata": {},
          "execution_count": 45
        }
      ]
    },
    {
      "cell_type": "code",
      "source": [
        "class Pessoa():\n",
        "\n",
        "  def __init__(self, name, age): #variáveis da função\n",
        "\n",
        "    name = str(input(\"Insira o seu nome: \")) #variáveis inplementadas\n",
        "    age = int(input(\"Insira a sua idade: \"))\n",
        "    print(2022 - age) #retorna o ano que a pessoa nasceu \n",
        "     \n",
        "\n",
        "pessoa1 = Pessoa(\" \", 23) #Criando um objeto a partir da classe Pessoa()\n"
      ],
      "metadata": {
        "colab": {
          "base_uri": "https://localhost:8080/"
        },
        "id": "-rkj4rnneS8j",
        "outputId": "04dd863f-701a-42ea-d242-40296b453d9e"
      },
      "execution_count": null,
      "outputs": [
        {
          "output_type": "stream",
          "name": "stdout",
          "text": [
            "Insira o seu nome: matheus\n",
            "Insira a sua idade: 23\n",
            "1999\n"
          ]
        }
      ]
    },
    {
      "cell_type": "code",
      "source": [
        "#3) \n",
        "class Pessoa():\n",
        "  def __init__(self, nome, idade):\n",
        "    self.nome = nome\n",
        "    self.idade = idade\n",
        "\n",
        "  def nascimento(self, idade):\n",
        "    return (2022 - idade) \n",
        "\n",
        "pessoa1 = Pessoa(\"Matheus\", 23)\n",
        "pessoa1.nome\n",
        "pessoa1.idade\n",
        "pessoa1.nascimento(23)  \n",
        "\n",
        "listaDePessoas=[]\n",
        "\n",
        "for i in range(5):\n",
        "  nome=str(input('Nome: '))\n",
        "  idade=int(input(\"Idade: \"))\n",
        "  pessoa = Pessoa(nome, idade)\n",
        "  listaDePessoas.append(pessoa)\n",
        "\n",
        "for objeto in range(len(listaDePessoas)):\n",
        "  print(\"Nome: %s, idade: %d\"  %(listaDePessoas[objeto].nome, listaDePessoas[objeto].idade))    "
      ],
      "metadata": {
        "colab": {
          "base_uri": "https://localhost:8080/"
        },
        "id": "pvmN4Wu8uA7z",
        "outputId": "fd6a1534-aaa0-4113-9fa9-9784d4fc5ff8"
      },
      "execution_count": null,
      "outputs": [
        {
          "output_type": "stream",
          "name": "stdout",
          "text": [
            "Nome: matheus\n",
            "Idade: 23\n",
            "Nome: julia\n",
            "Idade: 23\n",
            "Nome: felipe\n",
            "Idade: 4\n",
            "Nome: pedro\n",
            "Idade: 26\n",
            "Nome: ana\n",
            "Idade: 28\n",
            "Nome: matheus, idade: 23\n",
            "Nome: julia, idade: 23\n",
            "Nome: felipe, idade: 4\n",
            "Nome: pedro, idade: 26\n",
            "Nome: ana, idade: 28\n"
          ]
        }
      ]
    },
    {
      "cell_type": "markdown",
      "source": [
        "Atividade de Casa"
      ],
      "metadata": {
        "id": "RKhio81Yy86j"
      }
    },
    {
      "cell_type": "code",
      "source": [
        "#1).Criar as classes Pessoa, PessoaFisica e PessoaJuridica.\n",
        "#Atributos da classe Pessoa: nome, idade\n",
        "#Atributos da classe PessoaFisica: nome, idade, CPF\n",
        "#Atributos da classe PessoaJuridica: nome, idade, CNPJ"
      ],
      "metadata": {
        "id": "y3v0-Z0gzBCi"
      },
      "execution_count": null,
      "outputs": []
    },
    {
      "cell_type": "code",
      "source": [
        "class Pessoa():\n",
        "  def __init__(self,nome,idade):\n",
        "    self.nome=nome\n",
        "    self.idade=idade\n",
        "\n",
        "class PessoaFisica():\n",
        "  def __init__(self,nome,idade,cpf):\n",
        "    self.nome=nome\n",
        "    self.idade=idade\n",
        "    self.cpf=cpf\n",
        "\n",
        "class PessoaJuridica():\n",
        "  def __init__(self,nomeempresa,idade,cnpj):\n",
        "    self.nomeempresa=nomeempresa\n",
        "    self.idade=idade\n",
        "    self.cnpj=cnpj"
      ],
      "metadata": {
        "id": "FFcSHhmVzW2j"
      },
      "execution_count": null,
      "outputs": []
    },
    {
      "cell_type": "code",
      "source": [
        "#...tentar usar atributos de mãe para filha"
      ],
      "metadata": {
        "id": "HzIcrqXo2Fvi"
      },
      "execution_count": null,
      "outputs": []
    },
    {
      "cell_type": "code",
      "source": [
        "#2. Em todas as classes\n",
        "#Acrescentar um Método, que mostra uma mensagem de apresentação.\n",
        "#Ex: “Seja bem-vindo ao SENAC!”"
      ],
      "metadata": {
        "id": "9gk-WONV1Z4K"
      },
      "execution_count": null,
      "outputs": []
    },
    {
      "cell_type": "code",
      "source": [
        "class Pessoa():\n",
        "  def __init__(self,nome,idade):\n",
        "    self.nome=nome\n",
        "    self.idade=idade\n",
        "\n",
        "  def imprime(self):\n",
        "    print(\"Seja bem-vindo ao SENAC nome %s\" % (self.nome))\n",
        "\n",
        "class PessoaFisica(Pessoa):\n",
        "  def __init__(self,nome,idade,cpf):\n",
        "    super().__init__(nome,idade)\n",
        "    self.cpf=cpf\n",
        "    print(\"Seja bem-vindo ao SENAC\")\n",
        "\n",
        "  def imprime(self):\n",
        "    print(\"Seja bem-vindo ao SENAC nome %s\" % (self.nome))\n",
        "\n",
        "class PessoaJuridica(Pessoa):\n",
        "  def __init__(self,nome,idade,cnpj):\n",
        "    super().__init__(nome,idade)\n",
        "    self.cnpj=cnpj  \n",
        "    print(\"Seja bem-vindo ao SENAC\")\n",
        "\n",
        "  def imprime(self):\n",
        "    print(\"Seja bem-vindo ao SENAC nome %s\" % (self.nome))\n",
        "    "
      ],
      "metadata": {
        "id": "4bOTqRGA1vXJ"
      },
      "execution_count": null,
      "outputs": []
    },
    {
      "cell_type": "code",
      "source": [
        "#3.Nas classes: PessoaFisica e PessoaJuridica acrescentar uma Função, que\n",
        "#calcule o valor do imposto de renda.\n",
        "#OBS: na classe PessoaFisica a taxa do imposto sobre o salário é de 1.5%.\n",
        "#Enquanto que na classe PessoaJuridica a taxa do imposto sobre o salário é de\n",
        "#10%. Em ambas as classes retorne e informe o valor do imposto de renda.\n",
        "#IR = salario*taxa.\n",
        "#Instanciem um objeto para cada classe utilizando uma variável de referência."
      ],
      "metadata": {
        "id": "Q240mPp4HNmG"
      },
      "execution_count": null,
      "outputs": []
    },
    {
      "cell_type": "code",
      "source": [],
      "metadata": {
        "id": "cmY_ZMppmHgN"
      },
      "execution_count": null,
      "outputs": []
    }
  ]
}